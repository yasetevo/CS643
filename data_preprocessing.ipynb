{
 "cells": [
  {
   "cell_type": "code",
   "execution_count": 1,
   "source": [
    "from sklearn.metrics import classification_report, confusion_matrix, accuracy_score, f1_score, precision_score, make_scorer\r\n",
    "from sklearn.model_selection import cross_val_score\r\n",
    "from sklearn.ensemble import RandomForestClassifier\r\n",
    "from sklearn.preprocessing import StandardScaler\r\n",
    "from sklearn.model_selection import GridSearchCV\r\n",
    "from sklearn.decomposition import PCA\r\n",
    "from sklearn.cluster import KMeans\r\n",
    "from sklearn.utils import resample\r\n",
    "import pandas as pd\r\n",
    "import numpy as np\r\n",
    "import re"
   ],
   "outputs": [],
   "metadata": {}
  },
  {
   "cell_type": "code",
   "execution_count": 2,
   "source": [
    "TRAINING_FILE = \"TrainingDataset.csv\"\r\n",
    "VALIDATION_FILE = \"ValidationDataset.csv\""
   ],
   "outputs": [],
   "metadata": {}
  },
  {
   "cell_type": "code",
   "execution_count": 3,
   "source": [
    "training = pd.read_csv(TRAINING_FILE)\r\n",
    "validation = pd.read_csv(VALIDATION_FILE)"
   ],
   "outputs": [],
   "metadata": {}
  },
  {
   "cell_type": "code",
   "execution_count": 4,
   "source": [
    "print(training.head())\r\n",
    "print(validation.head())"
   ],
   "outputs": [
    {
     "output_type": "stream",
     "name": "stdout",
     "text": [
      "  \"\"fixed acidity\"\";\"\"volatile acidity\"\";\"\"citric acid\"\";\"\"residual sugar\"\";\"\"chlorides\"\";\"\"free sulfur dioxide\"\";\"\"total sulfur dioxide\"\";\"\"density\"\";\"\"pH\"\";\"\"sulphates\"\";\"\"alcohol\"\";\"\"quality\"\"\n",
      "0  8.9;0.22;0.48;1.8;0.077;29;60;0.9968;3.39;0.53...                                                                                                                                               \n",
      "1  7.6;0.39;0.31;2.3;0.082;23;71;0.9982;3.52;0.65...                                                                                                                                               \n",
      "2  7.9;0.43;0.21;1.6;0.106;10;37;0.9966;3.17;0.91...                                                                                                                                               \n",
      "3  8.5;0.49;0.11;2.3;0.084;9;67;0.9968;3.17;0.53;...                                                                                                                                               \n",
      "4  6.9;0.4;0.14;2.4;0.085;21;40;0.9968;3.43;0.63;...                                                                                                                                               \n",
      "  \"\"fixed acidity\"\";\"\"volatile acidity\"\";\"\"citric acid\"\";\"\"residual sugar\"\";\"\"chlorides\"\";\"\"free sulfur dioxide\"\";\"\"total sulfur dioxide\"\";\"\"density\"\";\"\"pH\"\";\"\"sulphates\"\";\"\"alcohol\"\";\"\"quality\"\"\n",
      "0   7.4;0.7;0;1.9;0.076;11;34;0.9978;3.51;0.56;9.4;5                                                                                                                                               \n",
      "1   7.8;0.88;0;2.6;0.098;25;67;0.9968;3.2;0.68;9.8;5                                                                                                                                               \n",
      "2  7.8;0.76;0.04;2.3;0.092;15;54;0.997;3.26;0.65;...                                                                                                                                               \n",
      "3  11.2;0.28;0.56;1.9;0.075;17;60;0.998;3.16;0.58...                                                                                                                                               \n",
      "4   7.4;0.7;0;1.9;0.076;11;34;0.9978;3.51;0.56;9.4;5                                                                                                                                               \n"
     ]
    }
   ],
   "metadata": {}
  },
  {
   "cell_type": "code",
   "execution_count": 5,
   "source": [
    "print(F\"Training Columns Before: {training.columns[0]}\")\r\n",
    "training_columns = training.columns[0].split(\";\")\r\n",
    "training_columns = [re.sub(\"[^a-z\\s]\", \"\", column) for column in training_columns]\r\n",
    "print(F\"Training Columns After: {training_columns}\")"
   ],
   "outputs": [
    {
     "output_type": "stream",
     "name": "stdout",
     "text": [
      "Training Columns Before: \"\"fixed acidity\"\";\"\"volatile acidity\"\";\"\"citric acid\"\";\"\"residual sugar\"\";\"\"chlorides\"\";\"\"free sulfur dioxide\"\";\"\"total sulfur dioxide\"\";\"\"density\"\";\"\"pH\"\";\"\"sulphates\"\";\"\"alcohol\"\";\"\"quality\"\"\n",
      "Training Columns After: ['fixed acidity', 'volatile acidity', 'citric acid', 'residual sugar', 'chlorides', 'free sulfur dioxide', 'total sulfur dioxide', 'density', 'p', 'sulphates', 'alcohol', 'quality']\n"
     ]
    }
   ],
   "metadata": {}
  },
  {
   "cell_type": "code",
   "execution_count": 6,
   "source": [
    "print(F\"Validation Columns Before: {validation.columns[0]}\")\r\n",
    "validation_columns = validation.columns[0].split(\";\")\r\n",
    "validation_columns = [re.sub(\"[^a-z]\", \"\", column) for column in training_columns]\r\n",
    "print(F\"Validation Columns After: {validation_columns}\")"
   ],
   "outputs": [
    {
     "output_type": "stream",
     "name": "stdout",
     "text": [
      "Validation Columns Before: \"\"fixed acidity\"\";\"\"volatile acidity\"\";\"\"citric acid\"\";\"\"residual sugar\"\";\"\"chlorides\"\";\"\"free sulfur dioxide\"\";\"\"total sulfur dioxide\"\";\"\"density\"\";\"\"pH\"\";\"\"sulphates\"\";\"\"alcohol\"\";\"\"quality\"\"\n",
      "Validation Columns After: ['fixedacidity', 'volatileacidity', 'citricacid', 'residualsugar', 'chlorides', 'freesulfurdioxide', 'totalsulfurdioxide', 'density', 'p', 'sulphates', 'alcohol', 'quality']\n"
     ]
    }
   ],
   "metadata": {}
  },
  {
   "cell_type": "code",
   "execution_count": 7,
   "source": [
    "corrected_training = pd.DataFrame(columns=training_columns, data=training[training.columns[0]].str.split(\";\", expand=True).values)\r\n",
    "corrected_validation = pd.DataFrame(columns=validation_columns, data=validation[validation.columns[0]].str.split(\";\", expand=True).values)\r\n",
    "\r\n",
    "for column in training_columns:\r\n",
    "    corrected_training[column] = corrected_training[column].astype(float)\r\n",
    "\r\n",
    "for column in validation_columns:\r\n",
    "    corrected_validation[column] = corrected_validation[column].astype(float)\r\n",
    "\r\n",
    "print(corrected_training.head())\r\n",
    "print(corrected_validation.head())"
   ],
   "outputs": [
    {
     "output_type": "stream",
     "name": "stdout",
     "text": [
      "   fixed acidity  volatile acidity  citric acid  residual sugar  chlorides  \\\n",
      "0            8.9              0.22         0.48             1.8      0.077   \n",
      "1            7.6              0.39         0.31             2.3      0.082   \n",
      "2            7.9              0.43         0.21             1.6      0.106   \n",
      "3            8.5              0.49         0.11             2.3      0.084   \n",
      "4            6.9              0.40         0.14             2.4      0.085   \n",
      "\n",
      "   free sulfur dioxide  total sulfur dioxide  density     p  sulphates  \\\n",
      "0                 29.0                  60.0   0.9968  3.39       0.53   \n",
      "1                 23.0                  71.0   0.9982  3.52       0.65   \n",
      "2                 10.0                  37.0   0.9966  3.17       0.91   \n",
      "3                  9.0                  67.0   0.9968  3.17       0.53   \n",
      "4                 21.0                  40.0   0.9968  3.43       0.63   \n",
      "\n",
      "   alcohol  quality  \n",
      "0      9.4      6.0  \n",
      "1      9.7      5.0  \n",
      "2      9.5      5.0  \n",
      "3      9.4      5.0  \n",
      "4      9.7      6.0  \n",
      "   fixedacidity  volatileacidity  citricacid  residualsugar  chlorides  \\\n",
      "0           7.4             0.70        0.00            1.9      0.076   \n",
      "1           7.8             0.88        0.00            2.6      0.098   \n",
      "2           7.8             0.76        0.04            2.3      0.092   \n",
      "3          11.2             0.28        0.56            1.9      0.075   \n",
      "4           7.4             0.70        0.00            1.9      0.076   \n",
      "\n",
      "   freesulfurdioxide  totalsulfurdioxide  density     p  sulphates  alcohol  \\\n",
      "0               11.0                34.0   0.9978  3.51       0.56      9.4   \n",
      "1               25.0                67.0   0.9968  3.20       0.68      9.8   \n",
      "2               15.0                54.0   0.9970  3.26       0.65      9.8   \n",
      "3               17.0                60.0   0.9980  3.16       0.58      9.8   \n",
      "4               11.0                34.0   0.9978  3.51       0.56      9.4   \n",
      "\n",
      "   quality  \n",
      "0      5.0  \n",
      "1      5.0  \n",
      "2      5.0  \n",
      "3      6.0  \n",
      "4      5.0  \n"
     ]
    }
   ],
   "metadata": {}
  },
  {
   "cell_type": "code",
   "execution_count": 8,
   "source": [
    "print(\"Training\")\r\n",
    "for column in corrected_training.columns:\r\n",
    "    print(corrected_training[column].dtype)\r\n",
    "print()\r\n",
    "print(\"Validation\")\r\n",
    "for column in corrected_validation.columns:\r\n",
    "    print(corrected_validation[column].dtype)"
   ],
   "outputs": [
    {
     "output_type": "stream",
     "name": "stdout",
     "text": [
      "Training\n",
      "float64\n",
      "float64\n",
      "float64\n",
      "float64\n",
      "float64\n",
      "float64\n",
      "float64\n",
      "float64\n",
      "float64\n",
      "float64\n",
      "float64\n",
      "float64\n",
      "\n",
      "Validation\n",
      "float64\n",
      "float64\n",
      "float64\n",
      "float64\n",
      "float64\n",
      "float64\n",
      "float64\n",
      "float64\n",
      "float64\n",
      "float64\n",
      "float64\n",
      "float64\n"
     ]
    }
   ],
   "metadata": {}
  },
  {
   "cell_type": "code",
   "execution_count": 9,
   "source": [
    "print(corrected_training[\"quality\"].value_counts())\r\n",
    "print(len(corrected_training.index))"
   ],
   "outputs": [
    {
     "output_type": "stream",
     "name": "stdout",
     "text": [
      "5.0    529\n",
      "6.0    522\n",
      "7.0    161\n",
      "4.0     45\n",
      "8.0     13\n",
      "3.0      9\n",
      "Name: quality, dtype: int64\n",
      "1279\n"
     ]
    }
   ],
   "metadata": {}
  },
  {
   "cell_type": "code",
   "execution_count": 10,
   "source": [
    "print(corrected_validation[\"quality\"].value_counts())\r\n",
    "print(len(corrected_validation.index))"
   ],
   "outputs": [
    {
     "output_type": "stream",
     "name": "stdout",
     "text": [
      "5.0    66\n",
      "6.0    65\n",
      "7.0    22\n",
      "8.0     4\n",
      "4.0     2\n",
      "3.0     1\n",
      "Name: quality, dtype: int64\n",
      "160\n"
     ]
    }
   ],
   "metadata": {}
  },
  {
   "cell_type": "code",
   "execution_count": 11,
   "source": [
    "training_data_columns = training_columns.copy()\r\n",
    "training_data_columns.remove(\"quality\")\r\n",
    "\r\n",
    "\r\n",
    "pt = pd.pivot_table(corrected_training, index=[\"quality\"], values=training_data_columns, aggfunc={column: [np.mean, np.std] for column in training_data_columns})\r\n",
    "print(pt)\r\n",
    "pt.to_excel(\"Wine Stats.xlsx\")"
   ],
   "outputs": [
    {
     "output_type": "stream",
     "name": "stdout",
     "text": [
      "           alcohol           chlorides           citric acid            \\\n",
      "              mean       std      mean       std        mean       std   \n",
      "quality                                                                  \n",
      "3.0      10.127778  0.645712  0.113889  0.064048    0.135556  0.237808   \n",
      "4.0      10.230000  0.953129  0.092178  0.082362    0.178000  0.208311   \n",
      "5.0       9.931569  0.739033  0.092060  0.054869    0.231002  0.174456   \n",
      "6.0      10.681865  1.034266  0.083153  0.036769    0.257375  0.196234   \n",
      "7.0      11.493271  0.944743  0.077578  0.030562    0.355280  0.189509   \n",
      "8.0      12.084615  1.246225  0.069769  0.011315    0.394615  0.197974   \n",
      "\n",
      "          density           fixed acidity            ...         p            \\\n",
      "             mean       std          mean       std  ...      mean       std   \n",
      "quality                                              ...                       \n",
      "3.0      0.997249  0.001997      8.133333  1.717556  ...  3.424444  0.124410   \n",
      "4.0      0.996545  0.001568      7.771111  1.625314  ...  3.372000  0.186506   \n",
      "5.0      0.996881  0.001541      7.979206  1.370144  ...  3.317353  0.142422   \n",
      "6.0      0.996321  0.001929      8.161494  1.718141  ...  3.327625  0.149691   \n",
      "7.0      0.995897  0.001991      8.632298  1.942859  ...  3.308882  0.149022   \n",
      "8.0      0.995302  0.002354      8.676923  1.934405  ...  3.236923  0.168443   \n",
      "\n",
      "        residual sugar           sulphates           total sulfur dioxide  \\\n",
      "                  mean       std      mean       std                 mean   \n",
      "quality                                                                     \n",
      "3.0           2.694444  1.473186  0.563333  0.127475            25.888889   \n",
      "4.0           2.684444  1.893404  0.604889  0.258735            37.777778   \n",
      "5.0           2.493006  1.333552  0.612628  0.152605            56.396975   \n",
      "6.0           2.442241  1.498871  0.664828  0.141479            40.511494   \n",
      "7.0           2.672981  1.338668  0.733851  0.123699            34.217391   \n",
      "8.0           2.692308  1.487986  0.772308  0.119593            31.923077   \n",
      "\n",
      "                   volatile acidity            \n",
      "               std             mean       std  \n",
      "quality                                        \n",
      "3.0      17.538846         0.915000  0.336127  \n",
      "4.0      27.773343         0.686444  0.215187  \n",
      "5.0      36.346453         0.579055  0.165590  \n",
      "6.0      24.475160         0.502289  0.161683  \n",
      "7.0      34.380172         0.406180  0.149009  \n",
      "8.0      23.869302         0.411538  0.110743  \n",
      "\n",
      "[6 rows x 22 columns]\n"
     ]
    }
   ],
   "metadata": {}
  },
  {
   "cell_type": "code",
   "execution_count": 12,
   "source": [
    "training_data = corrected_training.values[:, 0:len(training_columns) - 1]\r\n",
    "print(training_data[0:3])\r\n",
    "training_labels = corrected_training.values[:, len(training_columns) - 1]\r\n",
    "print(training_labels[0:3])"
   ],
   "outputs": [
    {
     "output_type": "stream",
     "name": "stdout",
     "text": [
      "[[ 8.9     0.22    0.48    1.8     0.077  29.     60.      0.9968  3.39\n",
      "   0.53    9.4   ]\n",
      " [ 7.6     0.39    0.31    2.3     0.082  23.     71.      0.9982  3.52\n",
      "   0.65    9.7   ]\n",
      " [ 7.9     0.43    0.21    1.6     0.106  10.     37.      0.9966  3.17\n",
      "   0.91    9.5   ]]\n",
      "[6. 5. 5.]\n"
     ]
    }
   ],
   "metadata": {}
  },
  {
   "cell_type": "code",
   "execution_count": 13,
   "source": [
    "validation_data = corrected_validation.values[:, 0:len(validation_columns) - 1]\r\n",
    "print(validation_data[0:3])\r\n",
    "validation_labels = corrected_validation.values[:, len(validation_columns) - 1]\r\n",
    "print(validation_labels[0:3])"
   ],
   "outputs": [
    {
     "output_type": "stream",
     "name": "stdout",
     "text": [
      "[[7.400e+00 7.000e-01 0.000e+00 1.900e+00 7.600e-02 1.100e+01 3.400e+01\n",
      "  9.978e-01 3.510e+00 5.600e-01 9.400e+00]\n",
      " [7.800e+00 8.800e-01 0.000e+00 2.600e+00 9.800e-02 2.500e+01 6.700e+01\n",
      "  9.968e-01 3.200e+00 6.800e-01 9.800e+00]\n",
      " [7.800e+00 7.600e-01 4.000e-02 2.300e+00 9.200e-02 1.500e+01 5.400e+01\n",
      "  9.970e-01 3.260e+00 6.500e-01 9.800e+00]]\n",
      "[5. 5. 5.]\n"
     ]
    }
   ],
   "metadata": {}
  },
  {
   "cell_type": "markdown",
   "source": [
    "Normalization"
   ],
   "metadata": {}
  },
  {
   "cell_type": "code",
   "execution_count": 14,
   "source": [
    "scaler = StandardScaler()\r\n",
    "normalized_training = scaler.fit_transform(training_data)"
   ],
   "outputs": [],
   "metadata": {}
  },
  {
   "cell_type": "code",
   "execution_count": 15,
   "source": [
    "rfc = RandomForestClassifier(n_estimators=100)\r\n",
    "\r\n",
    "#Train the model using the training sets \r\n",
    "rfc.fit(normalized_training, training_labels)\r\n",
    "\r\n",
    "#Perform prediction on the test set\r\n",
    "y_pred = rfc.predict(scaler.transform(validation_data))\r\n",
    "\r\n",
    "print(\"Classification Report:\", classification_report(validation_labels, y_pred))\r\n",
    "print(\"Confusion Metrics :\", confusion_matrix(validation_labels, y_pred))\r\n",
    "print('F1 Score: ', f1_score(validation_labels, y_pred, average='micro'))\r\n",
    "print('Precision Score:', precision_score(validation_labels, y_pred, average=\"micro\"))\r\n",
    "print(\"Accuracy: \", accuracy_score(validation_labels, y_pred))"
   ],
   "outputs": [
    {
     "output_type": "stream",
     "name": "stdout",
     "text": [
      "Classification Report:               precision    recall  f1-score   support\n",
      "\n",
      "         3.0       0.00      0.00      0.00         1\n",
      "         4.0       0.00      0.00      0.00         2\n",
      "         5.0       0.63      0.71      0.67        66\n",
      "         6.0       0.51      0.48      0.49        65\n",
      "         7.0       0.26      0.27      0.27        22\n",
      "         8.0       0.00      0.00      0.00         4\n",
      "\n",
      "    accuracy                           0.53       160\n",
      "   macro avg       0.23      0.24      0.24       160\n",
      "weighted avg       0.50      0.53      0.51       160\n",
      "\n",
      "Confusion Metrics : [[ 0  0  0  1  0  0]\n",
      " [ 0  0  2  0  0  0]\n",
      " [ 0  0 47 15  4  0]\n",
      " [ 0  0 22 31 11  1]\n",
      " [ 0  0  4 12  6  0]\n",
      " [ 0  0  0  2  2  0]]\n",
      "F1 Score:  0.525\n",
      "Precision Score: 0.525\n",
      "Accuracy:  0.525\n"
     ]
    },
    {
     "output_type": "stream",
     "name": "stderr",
     "text": [
      "C:\\Users\\KoszykowskiM\\AppData\\Local\\Programs\\Python\\Python38\\lib\\site-packages\\sklearn\\metrics\\_classification.py:1248: UndefinedMetricWarning: Precision and F-score are ill-defined and being set to 0.0 in labels with no predicted samples. Use `zero_division` parameter to control this behavior.\n",
      "  _warn_prf(average, modifier, msg_start, len(result))\n",
      "C:\\Users\\KoszykowskiM\\AppData\\Local\\Programs\\Python\\Python38\\lib\\site-packages\\sklearn\\metrics\\_classification.py:1248: UndefinedMetricWarning: Precision and F-score are ill-defined and being set to 0.0 in labels with no predicted samples. Use `zero_division` parameter to control this behavior.\n",
      "  _warn_prf(average, modifier, msg_start, len(result))\n",
      "C:\\Users\\KoszykowskiM\\AppData\\Local\\Programs\\Python\\Python38\\lib\\site-packages\\sklearn\\metrics\\_classification.py:1248: UndefinedMetricWarning: Precision and F-score are ill-defined and being set to 0.0 in labels with no predicted samples. Use `zero_division` parameter to control this behavior.\n",
      "  _warn_prf(average, modifier, msg_start, len(result))\n"
     ]
    }
   ],
   "metadata": {}
  },
  {
   "cell_type": "markdown",
   "source": [
    "Resampling"
   ],
   "metadata": {}
  },
  {
   "cell_type": "code",
   "execution_count": 16,
   "source": [
    "quality_3_resample = resample(corrected_training.loc[corrected_training[\"quality\"] == 3], replace=True, n_samples=50)\r\n",
    "quality_4_resample = resample(corrected_training.loc[corrected_training[\"quality\"] == 4], replace=True, n_samples=150)\r\n",
    "quality_5_resample = resample(corrected_training.loc[corrected_training[\"quality\"] == 5], replace=False, n_samples=350)\r\n",
    "quality_6_resample = resample(corrected_training.loc[corrected_training[\"quality\"] == 6], replace=False, n_samples=350)\r\n",
    "quality_7_resample = resample(corrected_training.loc[corrected_training[\"quality\"] == 7], replace=True, n_samples=150)\r\n",
    "quality_8_resample = resample(corrected_training.loc[corrected_training[\"quality\"] == 8], replace=True, n_samples=50)\r\n",
    "\r\n",
    "resampled_training = pd.concat([quality_3_resample, quality_4_resample, quality_5_resample, quality_6_resample, quality_7_resample, quality_8_resample])\r\n",
    "\r\n",
    "resampled_training.to_excel(\"Uneven Resampling.xlsx\")"
   ],
   "outputs": [],
   "metadata": {}
  },
  {
   "cell_type": "code",
   "execution_count": null,
   "source": [
    "quality_3_resample = resample(corrected_training.loc[corrected_training[\"quality\"] == 3], replace=True, n_samples=200)\r\n",
    "quality_4_resample = resample(corrected_training.loc[corrected_training[\"quality\"] == 4], replace=True, n_samples=200)\r\n",
    "quality_5_resample = resample(corrected_training.loc[corrected_training[\"quality\"] == 5], replace=False, n_samples=200)\r\n",
    "quality_6_resample = resample(corrected_training.loc[corrected_training[\"quality\"] == 6], replace=False, n_samples=200)\r\n",
    "quality_7_resample = resample(corrected_training.loc[corrected_training[\"quality\"] == 7], replace=True, n_samples=200)\r\n",
    "quality_8_resample = resample(corrected_training.loc[corrected_training[\"quality\"] == 8], replace=True, n_samples=200)\r\n",
    "\r\n",
    "resampled_training = pd.concat([quality_3_resample, quality_4_resample, quality_5_resample, quality_6_resample, quality_7_resample, quality_8_resample])\r\n",
    "\r\n",
    "resampled_training.to_excel(\"Even Resampling.xlsx\")"
   ],
   "outputs": [],
   "metadata": {}
  },
  {
   "cell_type": "code",
   "execution_count": 17,
   "source": [
    "resampled_data = resampled_training.values[:, 0:len(training_columns) - 1]\r\n",
    "print(resampled_data[0:3])\r\n",
    "resampled_labels = resampled_training.values[:, len(training_columns) - 1]\r\n",
    "print(resampled_labels[0:3])"
   ],
   "outputs": [
    {
     "output_type": "stream",
     "name": "stdout",
     "text": [
      "[[7.1000e+00 8.7500e-01 5.0000e-02 5.7000e+00 8.2000e-02 3.0000e+00\n",
      "  1.4000e+01 9.9808e-01 3.4000e+00 5.2000e-01 1.0200e+01]\n",
      " [6.7000e+00 7.6000e-01 2.0000e-02 1.8000e+00 7.8000e-02 6.0000e+00\n",
      "  1.2000e+01 9.9600e-01 3.5500e+00 6.3000e-01 9.9500e+00]\n",
      " [6.8000e+00 8.1500e-01 0.0000e+00 1.2000e+00 2.6700e-01 1.6000e+01\n",
      "  2.9000e+01 9.9471e-01 3.3200e+00 5.1000e-01 9.8000e+00]]\n",
      "[3. 3. 3.]\n"
     ]
    }
   ],
   "metadata": {}
  },
  {
   "cell_type": "code",
   "execution_count": 18,
   "source": [
    "scaler = StandardScaler()\r\n",
    "normalized_training = scaler.fit_transform(resampled_data)"
   ],
   "outputs": [],
   "metadata": {}
  },
  {
   "cell_type": "code",
   "execution_count": 19,
   "source": [
    "rfc = RandomForestClassifier(n_estimators=200)\r\n",
    "\r\n",
    "#Train the model using the training sets \r\n",
    "rfc.fit(normalized_training, resampled_labels)\r\n",
    "\r\n",
    "#Perform prediction on the test set\r\n",
    "y_pred = rfc.predict(scaler.transform(validation_data))\r\n",
    "\r\n",
    "print(\"Classification Report:\", classification_report(validation_labels, y_pred))\r\n",
    "print(\"Confusion Metrics :\", confusion_matrix(validation_labels, y_pred))\r\n",
    "print('F1 Score: ', f1_score(validation_labels, y_pred, average='micro'))\r\n",
    "print('Precision Score:', precision_score(validation_labels, y_pred, average=\"micro\"))\r\n",
    "print(\"Accuracy: \", accuracy_score(validation_labels, y_pred))"
   ],
   "outputs": [
    {
     "output_type": "stream",
     "name": "stdout",
     "text": [
      "Classification Report:               precision    recall  f1-score   support\n",
      "\n",
      "         3.0       0.00      0.00      0.00         1\n",
      "         4.0       0.00      0.00      0.00         2\n",
      "         5.0       0.63      0.74      0.68        66\n",
      "         6.0       0.53      0.48      0.50        65\n",
      "         7.0       0.27      0.27      0.27        22\n",
      "         8.0       0.00      0.00      0.00         4\n",
      "\n",
      "    accuracy                           0.54       160\n",
      "   macro avg       0.24      0.25      0.24       160\n",
      "weighted avg       0.51      0.54      0.52       160\n",
      "\n",
      "Confusion Metrics : [[ 0  0  1  0  0  0]\n",
      " [ 0  0  2  0  0  0]\n",
      " [ 0  0 49 13  4  0]\n",
      " [ 0  0 22 31 10  2]\n",
      " [ 0  0  4 12  6  0]\n",
      " [ 0  0  0  2  2  0]]\n",
      "F1 Score:  0.5375\n",
      "Precision Score: 0.5375\n",
      "Accuracy:  0.5375\n"
     ]
    },
    {
     "output_type": "stream",
     "name": "stderr",
     "text": [
      "C:\\Users\\KoszykowskiM\\AppData\\Local\\Programs\\Python\\Python38\\lib\\site-packages\\sklearn\\metrics\\_classification.py:1248: UndefinedMetricWarning: Precision and F-score are ill-defined and being set to 0.0 in labels with no predicted samples. Use `zero_division` parameter to control this behavior.\n",
      "  _warn_prf(average, modifier, msg_start, len(result))\n",
      "C:\\Users\\KoszykowskiM\\AppData\\Local\\Programs\\Python\\Python38\\lib\\site-packages\\sklearn\\metrics\\_classification.py:1248: UndefinedMetricWarning: Precision and F-score are ill-defined and being set to 0.0 in labels with no predicted samples. Use `zero_division` parameter to control this behavior.\n",
      "  _warn_prf(average, modifier, msg_start, len(result))\n",
      "C:\\Users\\KoszykowskiM\\AppData\\Local\\Programs\\Python\\Python38\\lib\\site-packages\\sklearn\\metrics\\_classification.py:1248: UndefinedMetricWarning: Precision and F-score are ill-defined and being set to 0.0 in labels with no predicted samples. Use `zero_division` parameter to control this behavior.\n",
      "  _warn_prf(average, modifier, msg_start, len(result))\n"
     ]
    }
   ],
   "metadata": {}
  },
  {
   "cell_type": "code",
   "execution_count": 20,
   "source": [
    "rf = RandomForestClassifier(max_features='auto', oob_score=True, random_state=1, n_jobs=-1)\r\n",
    "\r\n",
    "param_grid = { \"criterion\" : [\"gini\", \"entropy\"], \"min_samples_leaf\" : [1, 5, 10], \"min_samples_split\" : [2, 4, 10, 12, 16], \"n_estimators\": [50, 100, 400, 700, 1000]}\r\n",
    "\r\n",
    "gs = GridSearchCV(estimator=rf, param_grid=param_grid, scoring='accuracy', cv=3, n_jobs=-1)\r\n",
    "\r\n",
    "gs = gs.fit(normalized_training, resampled_labels)"
   ],
   "outputs": [],
   "metadata": {}
  },
  {
   "cell_type": "code",
   "execution_count": 21,
   "source": [
    "print(gs.best_score_)\r\n",
    "print(gs.best_params_)"
   ],
   "outputs": [
    {
     "output_type": "stream",
     "name": "stdout",
     "text": [
      "0.7409111438682171\n",
      "{'criterion': 'entropy', 'min_samples_leaf': 1, 'min_samples_split': 4, 'n_estimators': 400}\n"
     ]
    }
   ],
   "metadata": {}
  },
  {
   "cell_type": "code",
   "execution_count": 22,
   "source": [
    "rf = RandomForestClassifier(criterion='gini', \r\n",
    "                             n_estimators=700,\r\n",
    "                             min_samples_split=2,\r\n",
    "                             min_samples_leaf=1,\r\n",
    "                             max_features='auto',\r\n",
    "                             oob_score=True,\r\n",
    "                             random_state=1,\r\n",
    "                             n_jobs=-1)\r\n",
    "rf.fit(normalized_training, resampled_labels)\r\n",
    "print(\"%.4f\" % rf.oob_score_)\r\n",
    "\r\n",
    "y_pred = rfc.predict(scaler.transform(validation_data))\r\n",
    "\r\n",
    "print(\"Classification Report:\", classification_report(validation_labels, y_pred))\r\n",
    "print(\"Confusion Metrics :\", confusion_matrix(validation_labels, y_pred))\r\n",
    "print('F1 Score: ', f1_score(validation_labels, y_pred, average='micro'))\r\n",
    "print('Precision Score:', precision_score(validation_labels, y_pred, average=\"micro\"))\r\n",
    "print(\"Accuracy: \", accuracy_score(validation_labels, y_pred))"
   ],
   "outputs": [
    {
     "output_type": "stream",
     "name": "stdout",
     "text": [
      "0.7855\n",
      "Classification Report:               precision    recall  f1-score   support\n",
      "\n",
      "         3.0       0.00      0.00      0.00         1\n",
      "         4.0       0.00      0.00      0.00         2\n",
      "         5.0       0.63      0.74      0.68        66\n",
      "         6.0       0.53      0.48      0.50        65\n",
      "         7.0       0.27      0.27      0.27        22\n",
      "         8.0       0.00      0.00      0.00         4\n",
      "\n",
      "    accuracy                           0.54       160\n",
      "   macro avg       0.24      0.25      0.24       160\n",
      "weighted avg       0.51      0.54      0.52       160\n",
      "\n",
      "Confusion Metrics : [[ 0  0  1  0  0  0]\n",
      " [ 0  0  2  0  0  0]\n",
      " [ 0  0 49 13  4  0]\n",
      " [ 0  0 22 31 10  2]\n",
      " [ 0  0  4 12  6  0]\n",
      " [ 0  0  0  2  2  0]]\n",
      "F1 Score:  0.5375\n",
      "Precision Score: 0.5375\n",
      "Accuracy:  0.5375\n"
     ]
    },
    {
     "output_type": "stream",
     "name": "stderr",
     "text": [
      "C:\\Users\\KoszykowskiM\\AppData\\Local\\Programs\\Python\\Python38\\lib\\site-packages\\sklearn\\metrics\\_classification.py:1248: UndefinedMetricWarning: Precision and F-score are ill-defined and being set to 0.0 in labels with no predicted samples. Use `zero_division` parameter to control this behavior.\n",
      "  _warn_prf(average, modifier, msg_start, len(result))\n",
      "C:\\Users\\KoszykowskiM\\AppData\\Local\\Programs\\Python\\Python38\\lib\\site-packages\\sklearn\\metrics\\_classification.py:1248: UndefinedMetricWarning: Precision and F-score are ill-defined and being set to 0.0 in labels with no predicted samples. Use `zero_division` parameter to control this behavior.\n",
      "  _warn_prf(average, modifier, msg_start, len(result))\n",
      "C:\\Users\\KoszykowskiM\\AppData\\Local\\Programs\\Python\\Python38\\lib\\site-packages\\sklearn\\metrics\\_classification.py:1248: UndefinedMetricWarning: Precision and F-score are ill-defined and being set to 0.0 in labels with no predicted samples. Use `zero_division` parameter to control this behavior.\n",
      "  _warn_prf(average, modifier, msg_start, len(result))\n"
     ]
    }
   ],
   "metadata": {}
  },
  {
   "cell_type": "code",
   "execution_count": 23,
   "source": [
    "scorer = make_scorer(f1_score, greater_is_better=True, average='macro')\r\n",
    "\r\n",
    "cv_score = cross_val_score(rf, normalized_training, resampled_labels, cv=4, scoring=scorer)\r\n",
    "\r\n",
    "print(f'10 Fold Cross Validation F1 Score = {round(cv_score.mean(), 4)} with std = {round(cv_score.std(), 4)}')"
   ],
   "outputs": [
    {
     "output_type": "stream",
     "name": "stdout",
     "text": [
      "10 Fold Cross Validation F1 Score = 0.8188 with std = 0.0151\n"
     ]
    }
   ],
   "metadata": {}
  },
  {
   "cell_type": "code",
   "execution_count": 24,
   "source": [
    "y_pred = rf.predict(scaler.transform(validation_data))\r\n",
    "\r\n",
    "print(confusion_matrix(validation_labels, y_pred))\r\n",
    "print(classification_report(validation_labels, y_pred))\r\n",
    "print(accuracy_score(validation_labels, y_pred))"
   ],
   "outputs": [
    {
     "output_type": "stream",
     "name": "stdout",
     "text": [
      "[[ 0  0  0  1  0  0]\n",
      " [ 0  0  2  0  0  0]\n",
      " [ 0  0 48 14  4  0]\n",
      " [ 0  1 23 29  9  3]\n",
      " [ 0  0  4  9  9  0]\n",
      " [ 0  0  0  2  2  0]]\n",
      "              precision    recall  f1-score   support\n",
      "\n",
      "         3.0       0.00      0.00      0.00         1\n",
      "         4.0       0.00      0.00      0.00         2\n",
      "         5.0       0.62      0.73      0.67        66\n",
      "         6.0       0.53      0.45      0.48        65\n",
      "         7.0       0.38      0.41      0.39        22\n",
      "         8.0       0.00      0.00      0.00         4\n",
      "\n",
      "    accuracy                           0.54       160\n",
      "   macro avg       0.25      0.26      0.26       160\n",
      "weighted avg       0.52      0.54      0.53       160\n",
      "\n",
      "0.5375\n"
     ]
    },
    {
     "output_type": "stream",
     "name": "stderr",
     "text": [
      "C:\\Users\\KoszykowskiM\\AppData\\Local\\Programs\\Python\\Python38\\lib\\site-packages\\sklearn\\metrics\\_classification.py:1248: UndefinedMetricWarning: Precision and F-score are ill-defined and being set to 0.0 in labels with no predicted samples. Use `zero_division` parameter to control this behavior.\n",
      "  _warn_prf(average, modifier, msg_start, len(result))\n",
      "C:\\Users\\KoszykowskiM\\AppData\\Local\\Programs\\Python\\Python38\\lib\\site-packages\\sklearn\\metrics\\_classification.py:1248: UndefinedMetricWarning: Precision and F-score are ill-defined and being set to 0.0 in labels with no predicted samples. Use `zero_division` parameter to control this behavior.\n",
      "  _warn_prf(average, modifier, msg_start, len(result))\n",
      "C:\\Users\\KoszykowskiM\\AppData\\Local\\Programs\\Python\\Python38\\lib\\site-packages\\sklearn\\metrics\\_classification.py:1248: UndefinedMetricWarning: Precision and F-score are ill-defined and being set to 0.0 in labels with no predicted samples. Use `zero_division` parameter to control this behavior.\n",
      "  _warn_prf(average, modifier, msg_start, len(result))\n"
     ]
    }
   ],
   "metadata": {}
  }
 ],
 "metadata": {
  "orig_nbformat": 4,
  "language_info": {
   "name": "python",
   "version": "3.8.10",
   "mimetype": "text/x-python",
   "codemirror_mode": {
    "name": "ipython",
    "version": 3
   },
   "pygments_lexer": "ipython3",
   "nbconvert_exporter": "python",
   "file_extension": ".py"
  },
  "kernelspec": {
   "name": "python3",
   "display_name": "Python 3.8.10 64-bit"
  },
  "interpreter": {
   "hash": "5dfe99c8a90147c2fce561b4f47f739a90206c31c81c3e346d6e0c774eebfdff"
  }
 },
 "nbformat": 4,
 "nbformat_minor": 2
}